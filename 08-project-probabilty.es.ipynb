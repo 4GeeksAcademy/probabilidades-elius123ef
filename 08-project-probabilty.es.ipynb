{
 "cells": [
  {
   "cell_type": "markdown",
   "id": "a41f3622",
   "metadata": {},
   "source": [
    "# Ejercicios de probabilidad"
   ]
  },
  {
   "cell_type": "code",
   "execution_count": 8,
   "id": "a327a73d690229d3",
   "metadata": {},
   "outputs": [],
   "source": [
    "# Importamos librerias\n",
    "import numpy as np\n",
    "import random"
   ]
  },
  {
   "cell_type": "markdown",
   "id": "a6bdbd89",
   "metadata": {},
   "source": [
    "## Ejercicio 1 \n",
    "\n",
    "Dos dados se lanzan una vez y se observa el total obtenido. Usa una simulación para encontrar la probabilidad estimada de que la puntuación sea mayor a 7 o un número par. Una simulación es una repetición del mismo experimento multiples veces para observar su comportamiento:\n",
    "\n",
    "- Ejecuta el experimento 1000 veces (lanza 2 dados 1000 veces, y suma el número de ambos dados).\n",
    "- Lleva ua cuenta de los números y las veces que la suma fue mayor a 7 o un número par.\n",
    "- Divide el número del paso 2 entre el número de iteraciones(1000).\n",
    "- Escribe tus observaciones o conclusiones"
   ]
  },
  {
   "cell_type": "code",
   "execution_count": 9,
   "id": "8939d892",
   "metadata": {},
   "outputs": [],
   "source": [
    "# Datos de la simulacion\n",
    "lanzamientos = 1000\n",
    "aciertos = 0\n",
    "# Hacemos la simulacion de lanzamientos\n",
    "for lanzamiento in range(lanzamientos):\n",
    "     \n",
    "     dado_uno = random.randint(1, 6)\n",
    "     dado_dos = random.randint(1, 6)\n",
    "     suma_dados = dado_uno + dado_dos\n",
    "# Ponemos la condicion\n",
    "     if suma_dados > 7 or suma_dados % 2 == 0:\n",
    "        aciertos += 1\n",
    "\n",
    "# Sacamos nuestras probabilidades\n",
    "probabilidad = aciertos / lanzamientos\n",
    "\n"
   ]
  },
  {
   "cell_type": "code",
   "execution_count": 10,
   "id": "f3c45579",
   "metadata": {},
   "outputs": [
    {
     "data": {
      "text/plain": [
       "'Se realizaron 1000 lanzamientos de dos dados.'"
      ]
     },
     "execution_count": 10,
     "metadata": {},
     "output_type": "execute_result"
    }
   ],
   "source": [
    "# Mostramos los resultados de la simulacion\n",
    "f\"Se realizaron {lanzamientos} lanzamientos de dos dados.\"\n",
    "\n"
   ]
  },
  {
   "cell_type": "code",
   "execution_count": 11,
   "id": "bc306738",
   "metadata": {},
   "outputs": [
    {
     "data": {
      "text/plain": [
       "'De esos 1000 lanzamientos 680 fueron un numero par o mayor a 7'"
      ]
     },
     "execution_count": 11,
     "metadata": {},
     "output_type": "execute_result"
    }
   ],
   "source": [
    "f\"De esos 1000 lanzamientos {aciertos} fueron un numero par o mayor a 7\"\n",
    "\n"
   ]
  },
  {
   "cell_type": "code",
   "execution_count": 12,
   "id": "c2a1ef4c",
   "metadata": {},
   "outputs": [
    {
     "data": {
      "text/plain": [
       "'Y obtuvimos asi, una probabilidad de 68.0%'"
      ]
     },
     "execution_count": 12,
     "metadata": {},
     "output_type": "execute_result"
    }
   ],
   "source": [
    "f\"Y obtuvimos asi, una probabilidad de {probabilidad * 100:.1f}%\""
   ]
  },
  {
   "cell_type": "markdown",
   "id": "b98975eb",
   "metadata": {},
   "source": [
    "## Concluciones"
   ]
  },
  {
   "cell_type": "markdown",
   "id": "85f92645",
   "metadata": {},
   "source": [
    "Podemos observar que aunque hagamos 1000 lanzamientos, y la suma de los dados sea mayor a 7 o a su vez sean numeros pares, la probabilidad de acierto siempre seguira siendo del 50%"
   ]
  },
  {
   "cell_type": "markdown",
   "id": "55732bca",
   "metadata": {},
   "source": [
    "## Ejercicio 2\n",
    "\n",
    "Una caja contiene 10 bolas blancas, 20 bolas rojas y 30 bolas verdes. Si tomamos 5 bolas de la caja reemplazándolas (tomando una bola, anotando el color y luego regresandola a la caja). Queremos saber la probabilidad de:\n",
    "\n",
    "1. Tomar 3 blancas y 2 rojas.\n",
    "2. Toas todas del mismo color.\n",
    "\n",
    "- Ejecuta el experimento 1000 veces y calcula las probabilidades que mencionadas.\n",
    "- Escribe tus observaciones o conclusiones"
   ]
  },
  {
   "cell_type": "code",
   "execution_count": 13,
   "id": "3558ebfcce636f98",
   "metadata": {},
   "outputs": [],
   "source": [
    "# Desafío: dict comprehesion para generar en una sola línea."
   ]
  },
  {
   "cell_type": "code",
   "execution_count": null,
   "id": "614230a4546d75d4",
   "metadata": {},
   "outputs": [
    {
     "data": {
      "text/plain": [
       "'Realizamos una simulación con un total de 1000 repeticiones.'"
      ]
     },
     "metadata": {},
     "output_type": "display_data"
    },
    {
     "data": {
      "text/plain": [
       "'Y las veces que obtuvimos 3 blancas y 2 rojas fue de: 5. Y su probabilidad estimada fue de: 0.50%'"
      ]
     },
     "metadata": {},
     "output_type": "display_data"
    },
    {
     "data": {
      "text/plain": [
       "'Y las veces que obtuvimos todas del mismo color fueron de: 42. Y su probabilidad estimada fue de: 4.20%'"
      ]
     },
     "metadata": {},
     "output_type": "display_data"
    }
   ],
   "source": [
    "# Datos de la simulación\n",
    "simulacion = 1000\n",
    "colores = [\"Blanca\"] * 10 + [\"Roja\"] * 20 + [\"Verde\"] * 30  # Total 60 bolas\n",
    "\n",
    "# Casos\n",
    "caso_uno = 0\n",
    "caso_dos = 0\n",
    "\n",
    "# Simulación\n",
    "for _ in range(simulacion):\n",
    "    # Agarramos las 5 bolas de la caja\n",
    "    bolas = [random.choice(colores) for _ in range(5)]\n",
    "    \n",
    "    blancas = bolas.count(\"Blanca\")\n",
    "    rojas = bolas.count(\"Roja\")\n",
    "    verdes = bolas.count(\"Verde\")\n",
    "    # Plantemao los casos\n",
    "    if blancas == 3 and rojas == 2:\n",
    "        caso_uno += 1\n",
    "    if blancas == 5 or rojas == 5 or verdes == 5:\n",
    "        caso_dos += 1\n",
    "\n",
    "# Planteamos las probabilidades\n",
    "probabilidad_caso_uno = caso_uno / simulacion\n",
    "probabilidad_caso_dos = caso_dos / simulacion\n"
   ]
  },
  {
   "cell_type": "code",
   "execution_count": 15,
   "id": "93866a94",
   "metadata": {},
   "outputs": [
    {
     "data": {
      "text/plain": [
       "'Realizamos una simulación con un total de 1000 repeticiones.'"
      ]
     },
     "execution_count": 15,
     "metadata": {},
     "output_type": "execute_result"
    }
   ],
   "source": [
    "\n",
    "# Mostramos resultados\n",
    "f\"Realizamos una simulación con un total de {simulacion} repeticiones.\"\n",
    "\n"
   ]
  },
  {
   "cell_type": "code",
   "execution_count": 19,
   "id": "269cfd20",
   "metadata": {},
   "outputs": [
    {
     "data": {
      "text/plain": [
       "'Y las veces que obtuvimos 3 blancas y 2 rojas fue de: 5. '"
      ]
     },
     "execution_count": 19,
     "metadata": {},
     "output_type": "execute_result"
    }
   ],
   "source": [
    "f\"Y las veces que obtuvimos 3 blancas y 2 rojas fue de: {caso_uno}. \"\n"
   ]
  },
  {
   "cell_type": "code",
   "execution_count": 23,
   "id": "90ba2d20",
   "metadata": {},
   "outputs": [
    {
     "data": {
      "text/plain": [
       "'Y su probabilidad estimada fue de: 0.5%'"
      ]
     },
     "execution_count": 23,
     "metadata": {},
     "output_type": "execute_result"
    }
   ],
   "source": [
    "f\"Y su probabilidad estimada fue de: {probabilidad_caso_uno * 100:.1f}%\"\n",
    "\n"
   ]
  },
  {
   "cell_type": "code",
   "execution_count": 25,
   "id": "f62e3ccd",
   "metadata": {},
   "outputs": [
    {
     "data": {
      "text/plain": [
       "'Y las veces que obtuvimos todas del mismo color fueron de: 42. '"
      ]
     },
     "execution_count": 25,
     "metadata": {},
     "output_type": "execute_result"
    }
   ],
   "source": [
    "f\"Y las veces que obtuvimos todas del mismo color fueron de: {caso_dos}. \"\n"
   ]
  },
  {
   "cell_type": "code",
   "execution_count": 27,
   "id": "2ae20dd5",
   "metadata": {},
   "outputs": [
    {
     "data": {
      "text/plain": [
       "'Y su probabilidad estimada fue de: 4.2%'"
      ]
     },
     "execution_count": 27,
     "metadata": {},
     "output_type": "execute_result"
    }
   ],
   "source": [
    "f\"Y su probabilidad estimada fue de: {probabilidad_caso_dos* 100:.1f}%\""
   ]
  },
  {
   "cell_type": "markdown",
   "id": "e49fe697",
   "metadata": {},
   "source": [
    "## Concluciones"
   ]
  },
  {
   "cell_type": "markdown",
   "id": "e91247bc",
   "metadata": {},
   "source": [
    "Podemos observar dos cosas:\n",
    "- La primera es que las veces que obtenemos el primer caso es muy inferior a la veces que obtenemos nuestro segundo caso, ya que las probabilidades de obtener un resultado mas especifico son menores\n",
    "- La segunda es que obtener resultados mas amplios o menos especificos aumenta considerablemente la probabilidad de obtenerlos"
   ]
  }
 ],
 "metadata": {
  "kernelspec": {
   "display_name": "Python 3",
   "language": "python",
   "name": "python3"
  },
  "language_info": {
   "codemirror_mode": {
    "name": "ipython",
    "version": 3
   },
   "file_extension": ".py",
   "mimetype": "text/x-python",
   "name": "python",
   "nbconvert_exporter": "python",
   "pygments_lexer": "ipython3",
   "version": "3.11.4"
  }
 },
 "nbformat": 4,
 "nbformat_minor": 5
}
